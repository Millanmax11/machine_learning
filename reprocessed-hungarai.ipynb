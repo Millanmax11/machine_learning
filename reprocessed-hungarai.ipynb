{
 "cells": [
  {
   "cell_type": "markdown",
   "id": "84105976",
   "metadata": {},
   "source": [
    "libraries\n"
   ]
  },
  {
   "cell_type": "code",
   "execution_count": 1,
   "id": "4b128159",
   "metadata": {},
   "outputs": [],
   "source": [
    "from matplotlib import pyplot as plt\n",
    "from sklearn.model_selection import train_test_split\n",
    "import seaborn as sns\n",
    "import numpy as np\n",
    "import pandas as pd\n",
    "\n"
   ]
  },
  {
   "cell_type": "markdown",
   "id": "78fd1aa9",
   "metadata": {},
   "source": [
    "dataset"
   ]
  },
  {
   "cell_type": "code",
   "execution_count": 3,
   "id": "267e960d",
   "metadata": {},
   "outputs": [
    {
     "name": "stdout",
     "output_type": "stream",
     "text": [
      "   28  1  2  130  132  0 2.1  185 0.1  0.2  ? ?.1 ?.2  0.3\n",
      "0  29  1  2  120  243  0   0  160   0  0.0  ?   ?   ?    0\n",
      "1  29  1  2  140    ?  0   0  170   0  0.0  ?   ?   ?    0\n",
      "2  30  0  1  170  237  0   1  170   0  0.0  ?   ?   6    0\n",
      "3  31  0  2  100  219  0   1  150   0  0.0  ?   ?   ?    0\n",
      "4  32  0  2  105  198  0   0  165   0  0.0  ?   ?   ?    0\n"
     ]
    }
   ],
   "source": [
    "data = pd.read_csv(\"processed.hungarian.data\")\n",
    "print(data.head())"
   ]
  },
  {
   "cell_type": "code",
   "execution_count": 4,
   "id": "2af01ca6",
   "metadata": {},
   "outputs": [
    {
     "name": "stdout",
     "output_type": "stream",
     "text": [
      "     28  1  2  130  132  0 2.1  185 0.1  0.2  ? ?.1 ?.2  0.3\n",
      "0    29  1  2  120  243  0   0  160   0  0.0  ?   ?   ?    0\n",
      "1    29  1  2  140    ?  0   0  170   0  0.0  ?   ?   ?    0\n",
      "2    30  0  1  170  237  0   1  170   0  0.0  ?   ?   6    0\n",
      "3    31  0  2  100  219  0   1  150   0  0.0  ?   ?   ?    0\n",
      "4    32  0  2  105  198  0   0  165   0  0.0  ?   ?   ?    0\n",
      "..   .. .. ..  ...  ... ..  ..  ...  ..  ... ..  ..  ..  ...\n",
      "288  52  1  4  160  331  0   0   94   1  2.5  ?   ?   ?    1\n",
      "289  54  0  3  130  294  0   1  100   1  0.0  2   ?   ?    1\n",
      "290  56  1  4  155  342  1   0  150   1  3.0  2   ?   ?    1\n",
      "291  58  0  2  180  393  0   0  110   1  1.0  2   ?   7    1\n",
      "292  65  1  4  130  275  0   1  115   1  1.0  2   ?   ?    1\n",
      "\n",
      "[293 rows x 14 columns]\n"
     ]
    }
   ],
   "source": [
    "data = data.dropna()\n",
    "print(data)"
   ]
  },
  {
   "cell_type": "code",
   "execution_count": 5,
   "id": "183d49ab",
   "metadata": {},
   "outputs": [
    {
     "name": "stdout",
     "output_type": "stream",
     "text": [
      "True\n"
     ]
    }
   ],
   "source": [
    "print(isinstance(data, pd.DataFrame))"
   ]
  },
  {
   "cell_type": "code",
   "execution_count": 6,
   "id": "e7900108",
   "metadata": {},
   "outputs": [
    {
     "name": "stdout",
     "output_type": "stream",
     "text": [
      "Index(['28', '1', '2', '130', '132', '0', '2.1', '185', '0.1', '0.2', '?',\n",
      "       '?.1', '?.2', '0.3'],\n",
      "      dtype='object')\n"
     ]
    }
   ],
   "source": [
    "print(data.columns)"
   ]
  },
  {
   "cell_type": "code",
   "execution_count": 7,
   "id": "fd4cc3a2",
   "metadata": {},
   "outputs": [
    {
     "name": "stdout",
     "output_type": "stream",
     "text": [
      "   28  1  2  130  132  0 2.1  185 0.1  0.2  ? ?.1 ?.2  0.3\n",
      "0  29  1  2  120  243  0   0  160   0  0.0  ?   ?   ?    0\n",
      "1  29  1  2  140    ?  0   0  170   0  0.0  ?   ?   ?    0\n",
      "2  30  0  1  170  237  0   1  170   0  0.0  ?   ?   6    0\n",
      "3  31  0  2  100  219  0   1  150   0  0.0  ?   ?   ?    0\n",
      "4  32  0  2  105  198  0   0  165   0  0.0  ?   ?   ?    0\n"
     ]
    }
   ],
   "source": [
    "print(data.head())"
   ]
  },
  {
   "cell_type": "markdown",
   "id": "25083a43",
   "metadata": {},
   "source": [
    "codes"
   ]
  },
  {
   "cell_type": "code",
   "execution_count": 8,
   "id": "e1b4583a",
   "metadata": {},
   "outputs": [
    {
     "name": "stdout",
     "output_type": "stream",
     "text": [
      "   28  1  2  130  132  0 2.1  185 0.1  0.2  ? ?.1 ?.2  0.3\n",
      "0  29  1  2  120  243  0   0  160   0  0.0  ?   ?   ?    0\n",
      "1  29  1  2  140    ?  0   0  170   0  0.0  ?   ?   ?    0\n",
      "2  30  0  1  170  237  0   1  170   0  0.0  ?   ?   6    0\n",
      "3  31  0  2  100  219  0   1  150   0  0.0  ?   ?   ?    0\n",
      "4  32  0  2  105  198  0   0  165   0  0.0  ?   ?   ?    0\n"
     ]
    }
   ],
   "source": [
    "data = pd.read_csv(\"processed.hungarian.data\")\n",
    "print(data.head())"
   ]
  },
  {
   "cell_type": "code",
   "execution_count": 9,
   "id": "e0fa68a5",
   "metadata": {},
   "outputs": [
    {
     "name": "stdout",
     "output_type": "stream",
     "text": [
      "   Age  Sex  Cp Trestbps Chol Fbs Restecg Thalach Exang  Oldpeak Slope Ca  \\\n",
      "0   29    1   2      120  243   0       0     160     0      0.0     ?  ?   \n",
      "1   29    1   2      140    ?   0       0     170     0      0.0     ?  ?   \n",
      "2   30    0   1      170  237   0       1     170     0      0.0     ?  ?   \n",
      "3   31    0   2      100  219   0       1     150     0      0.0     ?  ?   \n",
      "4   32    0   2      105  198   0       0     165     0      0.0     ?  ?   \n",
      "\n",
      "  Thal  Num  \n",
      "0    ?    0  \n",
      "1    ?    0  \n",
      "2    6    0  \n",
      "3    ?    0  \n",
      "4    ?    0  \n"
     ]
    }
   ],
   "source": [
    "data.columns =['Age', 'Sex', 'Cp', 'Trestbps', 'Chol', 'Fbs', 'Restecg', 'Thalach', 'Exang', 'Oldpeak', 'Slope', 'Ca', 'Thal', 'Num']\n",
    "print(data.head())"
   ]
  },
  {
   "cell_type": "markdown",
   "id": "dbbbbc54",
   "metadata": {},
   "source": [
    "EDA Exploratory  data analysis"
   ]
  },
  {
   "cell_type": "code",
   "execution_count": 10,
   "id": "cff9642e",
   "metadata": {},
   "outputs": [
    {
     "data": {
      "text/html": [
       "<div>\n",
       "<style scoped>\n",
       "    .dataframe tbody tr th:only-of-type {\n",
       "        vertical-align: middle;\n",
       "    }\n",
       "\n",
       "    .dataframe tbody tr th {\n",
       "        vertical-align: top;\n",
       "    }\n",
       "\n",
       "    .dataframe thead th {\n",
       "        text-align: right;\n",
       "    }\n",
       "</style>\n",
       "<table border=\"1\" class=\"dataframe\">\n",
       "  <thead>\n",
       "    <tr style=\"text-align: right;\">\n",
       "      <th></th>\n",
       "      <th>Age</th>\n",
       "      <th>Sex</th>\n",
       "      <th>Cp</th>\n",
       "      <th>Trestbps</th>\n",
       "      <th>Chol</th>\n",
       "      <th>Fbs</th>\n",
       "      <th>Restecg</th>\n",
       "      <th>Thalach</th>\n",
       "      <th>Exang</th>\n",
       "      <th>Oldpeak</th>\n",
       "      <th>Slope</th>\n",
       "      <th>Ca</th>\n",
       "      <th>Thal</th>\n",
       "      <th>Num</th>\n",
       "    </tr>\n",
       "  </thead>\n",
       "  <tbody>\n",
       "    <tr>\n",
       "      <th>count</th>\n",
       "      <td>293.000000</td>\n",
       "      <td>293.000000</td>\n",
       "      <td>293.000000</td>\n",
       "      <td>293</td>\n",
       "      <td>293</td>\n",
       "      <td>293</td>\n",
       "      <td>293</td>\n",
       "      <td>293</td>\n",
       "      <td>293</td>\n",
       "      <td>293.000000</td>\n",
       "      <td>293</td>\n",
       "      <td>293</td>\n",
       "      <td>293</td>\n",
       "      <td>293.000000</td>\n",
       "    </tr>\n",
       "    <tr>\n",
       "      <th>unique</th>\n",
       "      <td>NaN</td>\n",
       "      <td>NaN</td>\n",
       "      <td>NaN</td>\n",
       "      <td>32</td>\n",
       "      <td>153</td>\n",
       "      <td>3</td>\n",
       "      <td>4</td>\n",
       "      <td>72</td>\n",
       "      <td>3</td>\n",
       "      <td>NaN</td>\n",
       "      <td>4</td>\n",
       "      <td>2</td>\n",
       "      <td>4</td>\n",
       "      <td>NaN</td>\n",
       "    </tr>\n",
       "    <tr>\n",
       "      <th>top</th>\n",
       "      <td>NaN</td>\n",
       "      <td>NaN</td>\n",
       "      <td>NaN</td>\n",
       "      <td>120</td>\n",
       "      <td>?</td>\n",
       "      <td>0</td>\n",
       "      <td>0</td>\n",
       "      <td>150</td>\n",
       "      <td>0</td>\n",
       "      <td>NaN</td>\n",
       "      <td>?</td>\n",
       "      <td>?</td>\n",
       "      <td>?</td>\n",
       "      <td>NaN</td>\n",
       "    </tr>\n",
       "    <tr>\n",
       "      <th>freq</th>\n",
       "      <td>NaN</td>\n",
       "      <td>NaN</td>\n",
       "      <td>NaN</td>\n",
       "      <td>65</td>\n",
       "      <td>23</td>\n",
       "      <td>265</td>\n",
       "      <td>235</td>\n",
       "      <td>29</td>\n",
       "      <td>203</td>\n",
       "      <td>NaN</td>\n",
       "      <td>189</td>\n",
       "      <td>290</td>\n",
       "      <td>265</td>\n",
       "      <td>NaN</td>\n",
       "    </tr>\n",
       "    <tr>\n",
       "      <th>mean</th>\n",
       "      <td>47.894198</td>\n",
       "      <td>0.723549</td>\n",
       "      <td>2.986348</td>\n",
       "      <td>NaN</td>\n",
       "      <td>NaN</td>\n",
       "      <td>NaN</td>\n",
       "      <td>NaN</td>\n",
       "      <td>NaN</td>\n",
       "      <td>NaN</td>\n",
       "      <td>0.588055</td>\n",
       "      <td>NaN</td>\n",
       "      <td>NaN</td>\n",
       "      <td>NaN</td>\n",
       "      <td>0.361775</td>\n",
       "    </tr>\n",
       "    <tr>\n",
       "      <th>std</th>\n",
       "      <td>7.738385</td>\n",
       "      <td>0.448007</td>\n",
       "      <td>0.965049</td>\n",
       "      <td>NaN</td>\n",
       "      <td>NaN</td>\n",
       "      <td>NaN</td>\n",
       "      <td>NaN</td>\n",
       "      <td>NaN</td>\n",
       "      <td>NaN</td>\n",
       "      <td>0.909554</td>\n",
       "      <td>NaN</td>\n",
       "      <td>NaN</td>\n",
       "      <td>NaN</td>\n",
       "      <td>0.481336</td>\n",
       "    </tr>\n",
       "    <tr>\n",
       "      <th>min</th>\n",
       "      <td>29.000000</td>\n",
       "      <td>0.000000</td>\n",
       "      <td>1.000000</td>\n",
       "      <td>NaN</td>\n",
       "      <td>NaN</td>\n",
       "      <td>NaN</td>\n",
       "      <td>NaN</td>\n",
       "      <td>NaN</td>\n",
       "      <td>NaN</td>\n",
       "      <td>0.000000</td>\n",
       "      <td>NaN</td>\n",
       "      <td>NaN</td>\n",
       "      <td>NaN</td>\n",
       "      <td>0.000000</td>\n",
       "    </tr>\n",
       "    <tr>\n",
       "      <th>25%</th>\n",
       "      <td>42.000000</td>\n",
       "      <td>0.000000</td>\n",
       "      <td>2.000000</td>\n",
       "      <td>NaN</td>\n",
       "      <td>NaN</td>\n",
       "      <td>NaN</td>\n",
       "      <td>NaN</td>\n",
       "      <td>NaN</td>\n",
       "      <td>NaN</td>\n",
       "      <td>0.000000</td>\n",
       "      <td>NaN</td>\n",
       "      <td>NaN</td>\n",
       "      <td>NaN</td>\n",
       "      <td>0.000000</td>\n",
       "    </tr>\n",
       "    <tr>\n",
       "      <th>50%</th>\n",
       "      <td>49.000000</td>\n",
       "      <td>1.000000</td>\n",
       "      <td>3.000000</td>\n",
       "      <td>NaN</td>\n",
       "      <td>NaN</td>\n",
       "      <td>NaN</td>\n",
       "      <td>NaN</td>\n",
       "      <td>NaN</td>\n",
       "      <td>NaN</td>\n",
       "      <td>0.000000</td>\n",
       "      <td>NaN</td>\n",
       "      <td>NaN</td>\n",
       "      <td>NaN</td>\n",
       "      <td>0.000000</td>\n",
       "    </tr>\n",
       "    <tr>\n",
       "      <th>75%</th>\n",
       "      <td>54.000000</td>\n",
       "      <td>1.000000</td>\n",
       "      <td>4.000000</td>\n",
       "      <td>NaN</td>\n",
       "      <td>NaN</td>\n",
       "      <td>NaN</td>\n",
       "      <td>NaN</td>\n",
       "      <td>NaN</td>\n",
       "      <td>NaN</td>\n",
       "      <td>1.000000</td>\n",
       "      <td>NaN</td>\n",
       "      <td>NaN</td>\n",
       "      <td>NaN</td>\n",
       "      <td>1.000000</td>\n",
       "    </tr>\n",
       "    <tr>\n",
       "      <th>max</th>\n",
       "      <td>66.000000</td>\n",
       "      <td>1.000000</td>\n",
       "      <td>4.000000</td>\n",
       "      <td>NaN</td>\n",
       "      <td>NaN</td>\n",
       "      <td>NaN</td>\n",
       "      <td>NaN</td>\n",
       "      <td>NaN</td>\n",
       "      <td>NaN</td>\n",
       "      <td>5.000000</td>\n",
       "      <td>NaN</td>\n",
       "      <td>NaN</td>\n",
       "      <td>NaN</td>\n",
       "      <td>1.000000</td>\n",
       "    </tr>\n",
       "  </tbody>\n",
       "</table>\n",
       "</div>"
      ],
      "text/plain": [
       "               Age         Sex          Cp Trestbps Chol  Fbs Restecg Thalach  \\\n",
       "count   293.000000  293.000000  293.000000      293  293  293     293     293   \n",
       "unique         NaN         NaN         NaN       32  153    3       4      72   \n",
       "top            NaN         NaN         NaN      120    ?    0       0     150   \n",
       "freq           NaN         NaN         NaN       65   23  265     235      29   \n",
       "mean     47.894198    0.723549    2.986348      NaN  NaN  NaN     NaN     NaN   \n",
       "std       7.738385    0.448007    0.965049      NaN  NaN  NaN     NaN     NaN   \n",
       "min      29.000000    0.000000    1.000000      NaN  NaN  NaN     NaN     NaN   \n",
       "25%      42.000000    0.000000    2.000000      NaN  NaN  NaN     NaN     NaN   \n",
       "50%      49.000000    1.000000    3.000000      NaN  NaN  NaN     NaN     NaN   \n",
       "75%      54.000000    1.000000    4.000000      NaN  NaN  NaN     NaN     NaN   \n",
       "max      66.000000    1.000000    4.000000      NaN  NaN  NaN     NaN     NaN   \n",
       "\n",
       "       Exang     Oldpeak Slope   Ca Thal         Num  \n",
       "count    293  293.000000   293  293  293  293.000000  \n",
       "unique     3         NaN     4    2    4         NaN  \n",
       "top        0         NaN     ?    ?    ?         NaN  \n",
       "freq     203         NaN   189  290  265         NaN  \n",
       "mean     NaN    0.588055   NaN  NaN  NaN    0.361775  \n",
       "std      NaN    0.909554   NaN  NaN  NaN    0.481336  \n",
       "min      NaN    0.000000   NaN  NaN  NaN    0.000000  \n",
       "25%      NaN    0.000000   NaN  NaN  NaN    0.000000  \n",
       "50%      NaN    0.000000   NaN  NaN  NaN    0.000000  \n",
       "75%      NaN    1.000000   NaN  NaN  NaN    1.000000  \n",
       "max      NaN    5.000000   NaN  NaN  NaN    1.000000  "
      ]
     },
     "execution_count": 10,
     "metadata": {},
     "output_type": "execute_result"
    }
   ],
   "source": [
    "#descriptive statistics\n",
    "data.describe(include=\"all\")"
   ]
  },
  {
   "cell_type": "code",
   "execution_count": 11,
   "id": "eb88bba7",
   "metadata": {},
   "outputs": [
    {
     "name": "stdout",
     "output_type": "stream",
     "text": [
      "       Age    Sex     Cp  Trestbps   Chol    Fbs  Restecg  Thalach  Exang  \\\n",
      "0    False  False  False     False  False  False    False    False  False   \n",
      "1    False  False  False     False  False  False    False    False  False   \n",
      "2    False  False  False     False  False  False    False    False  False   \n",
      "3    False  False  False     False  False  False    False    False  False   \n",
      "4    False  False  False     False  False  False    False    False  False   \n",
      "..     ...    ...    ...       ...    ...    ...      ...      ...    ...   \n",
      "288  False  False  False     False  False  False    False    False  False   \n",
      "289  False  False  False     False  False  False    False    False  False   \n",
      "290  False  False  False     False  False  False    False    False  False   \n",
      "291  False  False  False     False  False  False    False    False  False   \n",
      "292  False  False  False     False  False  False    False    False  False   \n",
      "\n",
      "     Oldpeak  Slope     Ca   Thal    Num  \n",
      "0      False  False  False  False  False  \n",
      "1      False  False  False  False  False  \n",
      "2      False  False  False  False  False  \n",
      "3      False  False  False  False  False  \n",
      "4      False  False  False  False  False  \n",
      "..       ...    ...    ...    ...    ...  \n",
      "288    False  False  False  False  False  \n",
      "289    False  False  False  False  False  \n",
      "290    False  False  False  False  False  \n",
      "291    False  False  False  False  False  \n",
      "292    False  False  False  False  False  \n",
      "\n",
      "[293 rows x 14 columns]\n"
     ]
    }
   ],
   "source": [
    "#checking null values in dataframe\n",
    "null_values = data.isnull()\n",
    "print(null_values)"
   ]
  },
  {
   "cell_type": "code",
   "execution_count": 12,
   "id": "dab3904f",
   "metadata": {},
   "outputs": [
    {
     "name": "stdout",
     "output_type": "stream",
     "text": [
      "Age         0\n",
      "Sex         0\n",
      "Cp          0\n",
      "Trestbps    0\n",
      "Chol        0\n",
      "Fbs         0\n",
      "Restecg     0\n",
      "Thalach     0\n",
      "Exang       0\n",
      "Oldpeak     0\n",
      "Slope       0\n",
      "Ca          0\n",
      "Thal        0\n",
      "Num         0\n",
      "dtype: int64\n"
     ]
    }
   ],
   "source": [
    "#null value\n",
    "null_val = data.isnull().sum()\n",
    "print(null_val)"
   ]
  },
  {
   "cell_type": "code",
   "execution_count": 13,
   "id": "315f0089",
   "metadata": {},
   "outputs": [
    {
     "name": "stdout",
     "output_type": "stream",
     "text": [
      "   Age  Sex  Cp Trestbps Chol Fbs Restecg Thalach Exang  Oldpeak Slope   Ca  \\\n",
      "0   29    1   2      120  243   0       0     160     0      0.0   NaN  NaN   \n",
      "1   29    1   2      140  NaN   0       0     170     0      0.0   NaN  NaN   \n",
      "2   30    0   1      170  237   0       1     170     0      0.0   NaN  NaN   \n",
      "3   31    0   2      100  219   0       1     150     0      0.0   NaN  NaN   \n",
      "4   32    0   2      105  198   0       0     165     0      0.0   NaN  NaN   \n",
      "\n",
      "  Thal  Num  \n",
      "0  NaN    0  \n",
      "1  NaN    0  \n",
      "2    6    0  \n",
      "3  NaN    0  \n",
      "4  NaN    0  \n"
     ]
    }
   ],
   "source": [
    "# we replace the ? with nun value with the mean of columns\n",
    "data.replace('?', np.nan, inplace=True)\n",
    "print(data.head())"
   ]
  },
  {
   "cell_type": "code",
   "execution_count": 14,
   "id": "b6f9c078",
   "metadata": {},
   "outputs": [
    {
     "name": "stdout",
     "output_type": "stream",
     "text": [
      "   Age  Sex  Cp  Trestbps  Chol  Fbs  Restecg  Thalach  Exang  Oldpeak  Slope  \\\n",
      "0   29    1   2       120   243    0        0      160      0        0      2   \n",
      "1   29    1   2       140   251    0        0      170      0        0      2   \n",
      "2   30    0   1       170   237    0        1      170      0        0      2   \n",
      "3   31    0   2       100   219    0        1      150      0        0      2   \n",
      "4   32    0   2       105   198    0        0      165      0        0      2   \n",
      "\n",
      "   Ca  Thal  Num  \n",
      "0   0     6    0  \n",
      "1   0     6    0  \n",
      "2   0     6    0  \n",
      "3   0     6    0  \n",
      "4   0     6    0  \n"
     ]
    }
   ],
   "source": [
    "#convert to numeric\n",
    "data = data.apply(pd.to_numeric, errors='ignore')\n",
    "\n",
    "#calculating mean of each raw\n",
    "column_means=data.mean()\n",
    "\n",
    "#fill nan values with mean\n",
    "data.fillna(column_means, inplace=True)\n",
    "\n",
    "#round the values to 1dp\n",
    "data = data.round(0)\n",
    "data = data.astype(int)\n",
    "print(data.head())"
   ]
  },
  {
   "cell_type": "code",
   "execution_count": 15,
   "id": "ae2553a8",
   "metadata": {},
   "outputs": [
    {
     "name": "stdout",
     "output_type": "stream",
     "text": [
      "Age         int32\n",
      "Sex         int32\n",
      "Cp          int32\n",
      "Trestbps    int32\n",
      "Chol        int32\n",
      "Fbs         int32\n",
      "Restecg     int32\n",
      "Thalach     int32\n",
      "Exang       int32\n",
      "Oldpeak     int32\n",
      "Slope       int32\n",
      "Ca          int32\n",
      "Thal        int32\n",
      "Num         int32\n",
      "dtype: object\n"
     ]
    }
   ],
   "source": [
    "#checking the datatype of the dataframe\n",
    "data_type = data.dtypes\n",
    "print(data_type)"
   ]
  },
  {
   "cell_type": "code",
   "execution_count": 16,
   "id": "0aaedc82",
   "metadata": {},
   "outputs": [
    {
     "data": {
      "text/html": [
       "<div>\n",
       "<style scoped>\n",
       "    .dataframe tbody tr th:only-of-type {\n",
       "        vertical-align: middle;\n",
       "    }\n",
       "\n",
       "    .dataframe tbody tr th {\n",
       "        vertical-align: top;\n",
       "    }\n",
       "\n",
       "    .dataframe thead th {\n",
       "        text-align: right;\n",
       "    }\n",
       "</style>\n",
       "<table border=\"1\" class=\"dataframe\">\n",
       "  <thead>\n",
       "    <tr style=\"text-align: right;\">\n",
       "      <th></th>\n",
       "      <th>Age</th>\n",
       "      <th>Sex</th>\n",
       "      <th>Cp</th>\n",
       "      <th>Trestbps</th>\n",
       "      <th>Chol</th>\n",
       "      <th>Fbs</th>\n",
       "      <th>Restecg</th>\n",
       "      <th>Thalach</th>\n",
       "      <th>Exang</th>\n",
       "      <th>Oldpeak</th>\n",
       "      <th>Slope</th>\n",
       "      <th>Ca</th>\n",
       "      <th>Thal</th>\n",
       "      <th>Num</th>\n",
       "    </tr>\n",
       "  </thead>\n",
       "  <tbody>\n",
       "    <tr>\n",
       "      <th>0</th>\n",
       "      <td>29</td>\n",
       "      <td>1</td>\n",
       "      <td>2</td>\n",
       "      <td>120</td>\n",
       "      <td>243</td>\n",
       "      <td>0</td>\n",
       "      <td>0</td>\n",
       "      <td>160</td>\n",
       "      <td>0</td>\n",
       "      <td>0</td>\n",
       "      <td>2</td>\n",
       "      <td>0</td>\n",
       "      <td>6</td>\n",
       "      <td>0</td>\n",
       "    </tr>\n",
       "    <tr>\n",
       "      <th>1</th>\n",
       "      <td>29</td>\n",
       "      <td>1</td>\n",
       "      <td>2</td>\n",
       "      <td>140</td>\n",
       "      <td>251</td>\n",
       "      <td>0</td>\n",
       "      <td>0</td>\n",
       "      <td>170</td>\n",
       "      <td>0</td>\n",
       "      <td>0</td>\n",
       "      <td>2</td>\n",
       "      <td>0</td>\n",
       "      <td>6</td>\n",
       "      <td>0</td>\n",
       "    </tr>\n",
       "    <tr>\n",
       "      <th>2</th>\n",
       "      <td>30</td>\n",
       "      <td>0</td>\n",
       "      <td>1</td>\n",
       "      <td>170</td>\n",
       "      <td>237</td>\n",
       "      <td>0</td>\n",
       "      <td>1</td>\n",
       "      <td>170</td>\n",
       "      <td>0</td>\n",
       "      <td>0</td>\n",
       "      <td>2</td>\n",
       "      <td>0</td>\n",
       "      <td>6</td>\n",
       "      <td>0</td>\n",
       "    </tr>\n",
       "    <tr>\n",
       "      <th>3</th>\n",
       "      <td>31</td>\n",
       "      <td>0</td>\n",
       "      <td>2</td>\n",
       "      <td>100</td>\n",
       "      <td>219</td>\n",
       "      <td>0</td>\n",
       "      <td>1</td>\n",
       "      <td>150</td>\n",
       "      <td>0</td>\n",
       "      <td>0</td>\n",
       "      <td>2</td>\n",
       "      <td>0</td>\n",
       "      <td>6</td>\n",
       "      <td>0</td>\n",
       "    </tr>\n",
       "    <tr>\n",
       "      <th>4</th>\n",
       "      <td>32</td>\n",
       "      <td>0</td>\n",
       "      <td>2</td>\n",
       "      <td>105</td>\n",
       "      <td>198</td>\n",
       "      <td>0</td>\n",
       "      <td>0</td>\n",
       "      <td>165</td>\n",
       "      <td>0</td>\n",
       "      <td>0</td>\n",
       "      <td>2</td>\n",
       "      <td>0</td>\n",
       "      <td>6</td>\n",
       "      <td>0</td>\n",
       "    </tr>\n",
       "  </tbody>\n",
       "</table>\n",
       "</div>"
      ],
      "text/plain": [
       "   Age  Sex  Cp  Trestbps  Chol  Fbs  Restecg  Thalach  Exang  Oldpeak  Slope  \\\n",
       "0   29    1   2       120   243    0        0      160      0        0      2   \n",
       "1   29    1   2       140   251    0        0      170      0        0      2   \n",
       "2   30    0   1       170   237    0        1      170      0        0      2   \n",
       "3   31    0   2       100   219    0        1      150      0        0      2   \n",
       "4   32    0   2       105   198    0        0      165      0        0      2   \n",
       "\n",
       "   Ca  Thal  Num  \n",
       "0   0     6    0  \n",
       "1   0     6    0  \n",
       "2   0     6    0  \n",
       "3   0     6    0  \n",
       "4   0     6    0  "
      ]
     },
     "execution_count": 16,
     "metadata": {},
     "output_type": "execute_result"
    }
   ],
   "source": [
    "data.head()"
   ]
  },
  {
   "cell_type": "code",
   "execution_count": 17,
   "id": "42e4e6d3",
   "metadata": {},
   "outputs": [],
   "source": [
    "#save my data to csv file\n",
    "data.to_csv('data-reprocessed-hungarai.csv', encoding='utf-8')"
   ]
  },
  {
   "cell_type": "markdown",
   "id": "be2bd3de",
   "metadata": {},
   "source": [
    "count"
   ]
  },
  {
   "cell_type": "code",
   "execution_count": 18,
   "id": "63f3091b",
   "metadata": {},
   "outputs": [
    {
     "data": {
      "text/html": [
       "<div>\n",
       "<style scoped>\n",
       "    .dataframe tbody tr th:only-of-type {\n",
       "        vertical-align: middle;\n",
       "    }\n",
       "\n",
       "    .dataframe tbody tr th {\n",
       "        vertical-align: top;\n",
       "    }\n",
       "\n",
       "    .dataframe thead th {\n",
       "        text-align: right;\n",
       "    }\n",
       "</style>\n",
       "<table border=\"1\" class=\"dataframe\">\n",
       "  <thead>\n",
       "    <tr style=\"text-align: right;\">\n",
       "      <th></th>\n",
       "      <th>Unnamed: 0</th>\n",
       "      <th>Age</th>\n",
       "      <th>Sex</th>\n",
       "      <th>Cp</th>\n",
       "      <th>Trestbps</th>\n",
       "      <th>Chol</th>\n",
       "      <th>Fbs</th>\n",
       "      <th>Restecg</th>\n",
       "      <th>Thalach</th>\n",
       "      <th>Exang</th>\n",
       "      <th>Oldpeak</th>\n",
       "      <th>Slope</th>\n",
       "      <th>Ca</th>\n",
       "      <th>Thal</th>\n",
       "      <th>Num</th>\n",
       "    </tr>\n",
       "  </thead>\n",
       "  <tbody>\n",
       "    <tr>\n",
       "      <th>0</th>\n",
       "      <td>0</td>\n",
       "      <td>29</td>\n",
       "      <td>1</td>\n",
       "      <td>2</td>\n",
       "      <td>120</td>\n",
       "      <td>243</td>\n",
       "      <td>0</td>\n",
       "      <td>0</td>\n",
       "      <td>160</td>\n",
       "      <td>0</td>\n",
       "      <td>0</td>\n",
       "      <td>2</td>\n",
       "      <td>0</td>\n",
       "      <td>6</td>\n",
       "      <td>0</td>\n",
       "    </tr>\n",
       "    <tr>\n",
       "      <th>1</th>\n",
       "      <td>1</td>\n",
       "      <td>29</td>\n",
       "      <td>1</td>\n",
       "      <td>2</td>\n",
       "      <td>140</td>\n",
       "      <td>251</td>\n",
       "      <td>0</td>\n",
       "      <td>0</td>\n",
       "      <td>170</td>\n",
       "      <td>0</td>\n",
       "      <td>0</td>\n",
       "      <td>2</td>\n",
       "      <td>0</td>\n",
       "      <td>6</td>\n",
       "      <td>0</td>\n",
       "    </tr>\n",
       "    <tr>\n",
       "      <th>2</th>\n",
       "      <td>2</td>\n",
       "      <td>30</td>\n",
       "      <td>0</td>\n",
       "      <td>1</td>\n",
       "      <td>170</td>\n",
       "      <td>237</td>\n",
       "      <td>0</td>\n",
       "      <td>1</td>\n",
       "      <td>170</td>\n",
       "      <td>0</td>\n",
       "      <td>0</td>\n",
       "      <td>2</td>\n",
       "      <td>0</td>\n",
       "      <td>6</td>\n",
       "      <td>0</td>\n",
       "    </tr>\n",
       "    <tr>\n",
       "      <th>3</th>\n",
       "      <td>3</td>\n",
       "      <td>31</td>\n",
       "      <td>0</td>\n",
       "      <td>2</td>\n",
       "      <td>100</td>\n",
       "      <td>219</td>\n",
       "      <td>0</td>\n",
       "      <td>1</td>\n",
       "      <td>150</td>\n",
       "      <td>0</td>\n",
       "      <td>0</td>\n",
       "      <td>2</td>\n",
       "      <td>0</td>\n",
       "      <td>6</td>\n",
       "      <td>0</td>\n",
       "    </tr>\n",
       "    <tr>\n",
       "      <th>4</th>\n",
       "      <td>4</td>\n",
       "      <td>32</td>\n",
       "      <td>0</td>\n",
       "      <td>2</td>\n",
       "      <td>105</td>\n",
       "      <td>198</td>\n",
       "      <td>0</td>\n",
       "      <td>0</td>\n",
       "      <td>165</td>\n",
       "      <td>0</td>\n",
       "      <td>0</td>\n",
       "      <td>2</td>\n",
       "      <td>0</td>\n",
       "      <td>6</td>\n",
       "      <td>0</td>\n",
       "    </tr>\n",
       "  </tbody>\n",
       "</table>\n",
       "</div>"
      ],
      "text/plain": [
       "   Unnamed: 0  Age  Sex  Cp  Trestbps  Chol  Fbs  Restecg  Thalach  Exang  \\\n",
       "0           0   29    1   2       120   243    0        0      160      0   \n",
       "1           1   29    1   2       140   251    0        0      170      0   \n",
       "2           2   30    0   1       170   237    0        1      170      0   \n",
       "3           3   31    0   2       100   219    0        1      150      0   \n",
       "4           4   32    0   2       105   198    0        0      165      0   \n",
       "\n",
       "   Oldpeak  Slope  Ca  Thal  Num  \n",
       "0        0      2   0     6    0  \n",
       "1        0      2   0     6    0  \n",
       "2        0      2   0     6    0  \n",
       "3        0      2   0     6    0  \n",
       "4        0      2   0     6    0  "
      ]
     },
     "execution_count": 18,
     "metadata": {},
     "output_type": "execute_result"
    }
   ],
   "source": [
    "dataframe = pd.read_csv(\"data-reprocessed-hungarai.csv\")\n",
    "dataframe.head()"
   ]
  },
  {
   "cell_type": "code",
   "execution_count": 19,
   "id": "dca2514b",
   "metadata": {},
   "outputs": [
    {
     "name": "stdout",
     "output_type": "stream",
     "text": [
      "True\n"
     ]
    }
   ],
   "source": [
    "print(isinstance(dataframe, pd.DataFrame))"
   ]
  },
  {
   "cell_type": "markdown",
   "id": "ca235951",
   "metadata": {},
   "source": [
    "Data Visualization"
   ]
  },
  {
   "cell_type": "code",
   "execution_count": 20,
   "id": "740aa020",
   "metadata": {},
   "outputs": [
    {
     "data": {
      "image/png": "[encoded data removed]",
      "text/plain": [
       "<Figure size 640x480 with 1 Axes>"
      ]
     },
     "metadata": {},
     "output_type": "display_data"
    }
   ],
   "source": [
    "# data visualiation\n",
    "column_name = \"Age\"\n",
    "fig, ax = plt.subplots()\n",
    "\n",
    "ax.hist(data[column_name], bins='auto')\n",
    "\n",
    "ax.set_xlabel(column_name)\n",
    "ax.set_ylabel('Frequeny')\n",
    "ax.set_title(\"Histogram of \" + column_name)\n",
    "ax.grid(True)\n",
    "\n",
    "plt.show()"
   ]
  },
  {
   "cell_type": "markdown",
   "id": "48809c83",
   "metadata": {},
   "source": [
    "BoxPlot"
   ]
  },
  {
   "cell_type": "code",
   "execution_count": 21,
   "id": "d3ce3578",
   "metadata": {},
   "outputs": [
    {
     "data": {
      "image/png": "[encoded data removed]",
      "text/plain": [
       "<Figure size 640x480 with 1 Axes>"
      ]
     },
     "metadata": {},
     "output_type": "display_data"
    }
   ],
   "source": [
    "# data visualiation\n",
    "column_name = \"Age\"\n",
    "plt.boxplot(data[column_name])\n",
    "\n",
    "plt.xlabel('Age')\n",
    "plt.ylabel('Frequency')\n",
    "plt.title(\"Boxplot of \" + column_name)\n",
    "\n",
    "\n",
    "plt.show()"
   ]
  },
  {
   "cell_type": "code",
   "execution_count": 23,
   "id": "746457ad",
   "metadata": {},
   "outputs": [
    {
     "data": {
      "text/plain": [
       "0      0\n",
       "1      0\n",
       "2      0\n",
       "3      0\n",
       "4      0\n",
       "      ..\n",
       "288    1\n",
       "289    1\n",
       "290    1\n",
       "291    1\n",
       "292    1\n",
       "Name: Num, Length: 293, dtype: int64"
      ]
     },
     "execution_count": 23,
     "metadata": {},
     "output_type": "execute_result"
    }
   ],
   "source": [
    "#separating the target\n",
    "X = dataframe.iloc[:, -1]\n",
    "y = dataframe.iloc[:, 14]\n",
    "X"
   ]
  },
  {
   "cell_type": "markdown",
   "id": "e9ec3ccb",
   "metadata": {},
   "source": [
    "Split data in train and test"
   ]
  },
  {
   "cell_type": "code",
   "execution_count": 24,
   "id": "4219b3c3",
   "metadata": {},
   "outputs": [
    {
     "name": "stdout",
     "output_type": "stream",
     "text": [
      "Training set shape: (234, 13) (234,)\n",
      "Testing set shape: (59, 13) (59,)\n"
     ]
    }
   ],
   "source": [
    "#spliting data into training and testing\n",
    "#X_train, X_test, y_train, y_test = train_test_split(dataframe, y, test_size=0.2, random_state=42)\n",
    "X_train, X_test, y_train, y_test = train_test_split(data.drop('Num', axis=1), data['Num'], test_size=0.2, random_state=42)\n",
    "\n",
    "#printing\n",
    "print(\"Training set shape:\", X_train.shape, y_train.shape)\n",
    "print(\"Testing set shape:\", X_test.shape, y_test.shape)"
   ]
  },
  {
   "cell_type": "code",
   "execution_count": 25,
   "id": "1307e8d1",
   "metadata": {},
   "outputs": [
    {
     "name": "stdout",
     "output_type": "stream",
     "text": [
      "False\n",
      "False\n",
      "False\n",
      "False\n"
     ]
    }
   ],
   "source": [
    "#checking if the train and test and are dataframes\n",
    "print(isinstance(X_train, np.ndarray))\n",
    "print(isinstance(y_train, np.ndarray))\n",
    "print(isinstance(X_test, np.ndarray))\n",
    "print(isinstance(y_test, np.ndarray))   "
   ]
  },
  {
   "cell_type": "markdown",
   "id": "b22fd691",
   "metadata": {},
   "source": [
    "selecting a row using iloc"
   ]
  },
  {
   "cell_type": "code",
   "execution_count": 26,
   "id": "55af9772",
   "metadata": {},
   "outputs": [
    {
     "data": {
      "text/plain": [
       "array([[  0,  29,   1,   2, 120, 243,   0,   0, 160,   0],\n",
       "       [  1,  29,   1,   2, 140, 251,   0,   0, 170,   0],\n",
       "       [  2,  30,   0,   1, 170, 237,   0,   1, 170,   0],\n",
       "       [  3,  31,   0,   2, 100, 219,   0,   1, 150,   0],\n",
       "       [  4,  32,   0,   2, 105, 198,   0,   0, 165,   0],\n",
       "       [  5,  32,   1,   2, 110, 225,   0,   0, 184,   0],\n",
       "       [  6,  32,   1,   2, 125, 254,   0,   0, 155,   0],\n",
       "       [  7,  33,   1,   3, 120, 298,   0,   0, 185,   0],\n",
       "       [  8,  34,   0,   2, 130, 161,   0,   0, 190,   0],\n",
       "       [  9,  34,   1,   2, 150, 214,   0,   1, 168,   0]], dtype=int64)"
      ]
     },
     "execution_count": 26,
     "metadata": {},
     "output_type": "execute_result"
    }
   ],
   "source": [
    "#selecting data using iloc\n",
    "dataframe.iloc[:10, :10].values"
   ]
  },
  {
   "cell_type": "markdown",
   "id": "866794ea",
   "metadata": {},
   "source": [
    "Feature Scaling"
   ]
  },
  {
   "cell_type": "code",
   "execution_count": 27,
   "id": "3005311a",
   "metadata": {},
   "outputs": [
    {
     "data": {
      "text/plain": [
       "(234, 13)"
      ]
     },
     "execution_count": 27,
     "metadata": {},
     "output_type": "execute_result"
    }
   ],
   "source": [
    "shaping = X_train.shape\n",
    "shaping"
   ]
  },
  {
   "cell_type": "code",
   "execution_count": 28,
   "id": "e4283c2d",
   "metadata": {},
   "outputs": [
    {
     "data": {
      "text/plain": [
       "array([[-8.72426755e-02, -1.72223741e+00, -9.94708958e-01,\n",
       "         4.21762993e-01,  3.93712586e-02, -2.61711961e-01,\n",
       "        -4.55196471e-01, -1.90166530e-01, -6.53321719e-01,\n",
       "         4.54338782e-01, -5.70188296e+00,  0.00000000e+00,\n",
       "         8.33101948e-02],\n",
       "       [ 5.62909747e-01,  5.80640041e-01,  1.07428567e+00,\n",
       "        -1.14656342e+00,  1.28633676e+00, -2.61711961e-01,\n",
       "         1.81110085e+00, -1.84930587e+00,  1.53063946e+00,\n",
       "         4.54338782e-01,  1.24495261e-01,  0.00000000e+00,\n",
       "         8.33101948e-02],\n",
       "       [-8.67425582e-01, -1.72223741e+00, -9.94708958e-01,\n",
       "        -4.18411869e-01, -1.03155205e+00, -2.61711961e-01,\n",
       "        -4.55196471e-01,  1.72422502e+00, -6.53321719e-01,\n",
       "        -6.41694981e-01,  1.24495261e-01,  0.00000000e+00,\n",
       "         8.33101948e-02],\n",
       "       [ 1.34309265e+00,  5.80640041e-01,  1.07428567e+00,\n",
       "         1.41704706e-01, -4.74085123e-01, -2.61711961e-01,\n",
       "        -4.55196471e-01, -1.67913774e+00, -6.53321719e-01,\n",
       "        -6.41694981e-01,  1.24495261e-01,  0.00000000e+00,\n",
       "         8.33101948e-02],\n",
       "       [ 8.22970716e-01, -1.72223741e+00, -9.94708958e-01,\n",
       "         4.21762993e-01,  8.02220740e-01, -2.61711961e-01,\n",
       "         1.81110085e+00,  2.25436422e-02, -6.53321719e-01,\n",
       "        -6.41694981e-01,  1.24495261e-01,  0.00000000e+00,\n",
       "         8.33101948e-02],\n",
       "       [ 5.62909747e-01, -1.72223741e+00,  1.07428567e+00,\n",
       "        -1.38353581e-01, -1.09023278e+00, -2.61711961e-01,\n",
       "        -4.55196471e-01,  2.25436422e-02,  1.53063946e+00,\n",
       "         1.55037255e+00,  1.24495261e-01,  0.00000000e+00,\n",
       "         8.33101948e-02],\n",
       "       [-9.97456067e-01, -1.72223741e+00,  1.07428567e+00,\n",
       "         9.81879568e-01,  2.01984587e+00, -2.61711961e-01,\n",
       "        -4.55196471e-01, -4.02876702e-01, -6.53321719e-01,\n",
       "         1.55037255e+00,  1.24495261e-01,  0.00000000e+00,\n",
       "         8.33101948e-02],\n",
       "       [ 4.32879262e-01, -1.72223741e+00,  3.97883583e-02,\n",
       "         9.81879568e-01, -7.96829135e-01, -2.61711961e-01,\n",
       "        -4.55196471e-01, -8.28297047e-01, -6.53321719e-01,\n",
       "        -6.41694981e-01, -5.70188296e+00,  0.00000000e+00,\n",
       "         8.33101948e-02],\n",
       "       [-1.77763897e+00,  5.80640041e-01, -9.94708958e-01,\n",
       "         9.81879568e-01, -5.91446582e-01, -2.61711961e-01,\n",
       "         1.81110085e+00,  1.21372061e+00, -6.53321719e-01,\n",
       "        -6.41694981e-01,  1.24495261e-01,  0.00000000e+00,\n",
       "         8.33101948e-02],\n",
       "       [ 4.27878090e-02, -1.72223741e+00, -9.94708958e-01,\n",
       "        -6.98470156e-01, -4.86498354e-02,  3.82099463e+00,\n",
       "         1.81110085e+00,  3.62879918e-01, -6.53321719e-01,\n",
       "        -6.41694981e-01,  1.24495261e-01,  0.00000000e+00,\n",
       "         8.33101948e-02],\n",
       "       [ 8.22970716e-01,  5.80640041e-01, -9.94708958e-01,\n",
       "        -1.25858673e+00, -6.79467676e-01, -2.61711961e-01,\n",
       "        -4.55196471e-01,  1.07627711e-01, -6.53321719e-01,\n",
       "        -6.41694981e-01,  1.24495261e-01,  0.00000000e+00,\n",
       "         8.33101948e-02],\n",
       "       [ 1.47312314e+00,  5.80640041e-01,  1.07428567e+00,\n",
       "         4.21762993e-01,  1.42062535e-01,  3.82099463e+00,\n",
       "         4.07739817e+00, -8.70839081e-01,  1.53063946e+00,\n",
       "        -6.41694981e-01,  1.24495261e-01,  0.00000000e+00,\n",
       "         8.33101948e-02],\n",
       "       [-1.12748655e+00,  5.80640041e-01, -9.94708958e-01,\n",
       "        -1.38353581e-01, -4.86498354e-02, -2.61711961e-01,\n",
       "        -4.55196471e-01, -8.28297047e-01, -6.53321719e-01,\n",
       "        -6.41694981e-01,  1.24495261e-01,  0.00000000e+00,\n",
       "         8.33101948e-02],\n",
       "       [-8.72426755e-02, -1.72223741e+00,  1.07428567e+00,\n",
       "        -6.98470156e-01, -7.23478223e-01, -2.61711961e-01,\n",
       "        -4.55196471e-01, -1.76422180e+00,  1.53063946e+00,\n",
       "         1.55037255e+00,  1.24495261e-01,  0.00000000e+00,\n",
       "         8.33101948e-02],\n",
       "       [ 1.60315362e+00,  5.80640041e-01,  1.07428567e+00,\n",
       "        -1.81870331e+00, -9.26603825e-02, -2.61711961e-01,\n",
       "        -4.55196471e-01, -6.15586874e-01, -6.53321719e-01,\n",
       "         4.54338782e-01,  1.24495261e-01,  0.00000000e+00,\n",
       "         8.33101948e-02],\n",
       "       [-2.17273160e-01, -1.72223741e+00,  1.07428567e+00,\n",
       "        -1.38353581e-01, -2.39362206e-01, -2.61711961e-01,\n",
       "        -4.55196471e-01, -2.10455808e+00, -6.53321719e-01,\n",
       "        -6.41694981e-01,  1.24495261e-01,  0.00000000e+00,\n",
       "         8.33101948e-02],\n",
       "       [-8.67425582e-01, -1.72223741e+00, -9.94708958e-01,\n",
       "        -1.38353581e-01, -1.36670929e-01, -2.61711961e-01,\n",
       "        -4.55196471e-01,  4.47963987e-01, -6.53321719e-01,\n",
       "        -6.41694981e-01,  1.24495261e-01,  0.00000000e+00,\n",
       "         8.33101948e-02],\n",
       "       [-2.03769994e+00,  5.80640041e-01, -9.94708958e-01,\n",
       "        -1.25858673e+00, -4.30074576e-01, -2.61711961e-01,\n",
       "        -4.55196471e-01,  1.89439316e+00, -6.53321719e-01,\n",
       "        -6.41694981e-01,  1.24495261e-01,  0.00000000e+00,\n",
       "         8.33101948e-02],\n",
       "       [-2.17273160e-01,  5.80640041e-01,  1.07428567e+00,\n",
       "        -1.38353581e-01, -4.74085123e-01, -2.61711961e-01,\n",
       "        -4.55196471e-01, -1.16863332e+00, -6.53321719e-01,\n",
       "        -6.41694981e-01,  1.24495261e-01,  0.00000000e+00,\n",
       "         8.33101948e-02],\n",
       "       [ 8.22970716e-01,  5.80640041e-01,  1.07428567e+00,\n",
       "         3.78246244e+00, -8.26169499e-01, -2.61711961e-01,\n",
       "        -4.55196471e-01,  1.07627711e-01,  1.53063946e+00,\n",
       "         1.55037255e+00,  1.24495261e-01,  0.00000000e+00,\n",
       "         8.33101948e-02],\n",
       "       [ 5.62909747e-01, -1.72223741e+00,  3.97883583e-02,\n",
       "        -4.18411869e-01,  2.59423994e-01, -2.61711961e-01,\n",
       "        -4.55196471e-01, -1.99983923e-02, -6.53321719e-01,\n",
       "        -6.41694981e-01,  1.24495261e-01,  0.00000000e+00,\n",
       "         8.33101948e-02],\n",
       "       [ 5.62909747e-01,  5.80640041e-01,  1.07428567e+00,\n",
       "         2.10211272e+00, -4.86498354e-02, -2.61711961e-01,\n",
       "        -4.55196471e-01, -5.73044840e-01,  1.53063946e+00,\n",
       "         1.55037255e+00,  1.24495261e-01,  0.00000000e+00,\n",
       "         8.33101948e-02],\n",
       "       [-6.07364613e-01,  5.80640041e-01,  1.07428567e+00,\n",
       "         4.21762993e-01,  4.94146911e-01, -2.61711961e-01,\n",
       "        -4.55196471e-01, -1.90166530e-01,  1.53063946e+00,\n",
       "         1.55037255e+00,  1.24495261e-01,  0.00000000e+00,\n",
       "         8.33101948e-02],\n",
       "       [ 1.72818293e-01, -1.72223741e+00, -9.94708958e-01,\n",
       "        -1.25858673e+00, -4.86498354e-02, -2.61711961e-01,\n",
       "        -4.55196471e-01,  8.73384331e-01, -6.53321719e-01,\n",
       "        -6.41694981e-01,  1.24495261e-01,  0.00000000e+00,\n",
       "         8.33101948e-02],\n",
       "       [-3.47303644e-01,  5.80640041e-01,  1.07428567e+00,\n",
       "        -6.98470156e-01, -4.30074576e-01, -2.61711961e-01,\n",
       "        -4.55196471e-01,  2.25436422e-02, -6.53321719e-01,\n",
       "        -6.41694981e-01,  1.24495261e-01,  0.00000000e+00,\n",
       "         8.33101948e-02],\n",
       "       [ 1.08303168e+00,  5.80640041e-01,  1.07428567e+00,\n",
       "         9.81879568e-01, -3.56723665e-01, -2.61711961e-01,\n",
       "         1.81110085e+00, -6.58128909e-01,  1.53063946e+00,\n",
       "         1.55037255e+00,  1.24495261e-01,  0.00000000e+00,\n",
       "         8.33101948e-02],\n",
       "       [ 1.47312314e+00,  5.80640041e-01,  1.07428567e+00,\n",
       "        -1.38353581e-01, -4.86498354e-02, -2.61711961e-01,\n",
       "        -4.55196471e-01, -6.15586874e-01, -6.53321719e-01,\n",
       "        -6.41694981e-01,  1.24495261e-01,  0.00000000e+00,\n",
       "         8.33101948e-02],\n",
       "       [ 3.02848778e-01, -1.72223741e+00,  1.07428567e+00,\n",
       "        -6.98470156e-01,  1.08095420e+00, -2.61711961e-01,\n",
       "        -4.55196471e-01, -1.25371739e+00,  1.53063946e+00,\n",
       "         4.54338782e-01,  1.24495261e-01,  0.00000000e+00,\n",
       "         8.33101948e-02],\n",
       "       [-6.07364613e-01, -1.72223741e+00, -9.94708958e-01,\n",
       "        -6.98470156e-01, -5.76776400e-01, -2.61711961e-01,\n",
       "         1.81110085e+00,  1.51151485e+00, -6.53321719e-01,\n",
       "        -6.41694981e-01,  1.24495261e-01,  0.00000000e+00,\n",
       "         8.33101948e-02],\n",
       "       [-2.17273160e-01,  5.80640041e-01,  1.07428567e+00,\n",
       "        -6.98470156e-01,  3.32774905e-01, -2.61711961e-01,\n",
       "        -4.55196471e-01, -6.15586874e-01,  1.53063946e+00,\n",
       "         4.54338782e-01,  1.24495261e-01,  0.00000000e+00,\n",
       "         8.33101948e-02],\n",
       "       [-9.97456067e-01,  5.80640041e-01,  3.97883583e-02,\n",
       "        -1.38353581e-01,  3.91455635e-01, -2.61711961e-01,\n",
       "        -4.55196471e-01,  1.17117857e+00, -6.53321719e-01,\n",
       "        -6.41694981e-01,  1.24495261e-01,  0.00000000e+00,\n",
       "         8.33101948e-02],\n",
       "       [-7.37395098e-01,  5.80640041e-01,  3.97883583e-02,\n",
       "         1.54199614e+00, -1.57434880e+00, -2.61711961e-01,\n",
       "        -4.55196471e-01,  2.77795849e-01, -6.53321719e-01,\n",
       "        -6.41694981e-01,  1.24495261e-01,  0.00000000e+00,\n",
       "         8.33101948e-02],\n",
       "       [ 3.02848778e-01,  5.80640041e-01,  1.07428567e+00,\n",
       "         4.21762993e-01, -3.42053482e-01, -2.61711961e-01,\n",
       "         1.81110085e+00,  2.25436422e-02,  1.53063946e+00,\n",
       "         4.83847384e+00,  1.24495261e-01,  0.00000000e+00,\n",
       "         8.33101948e-02],\n",
       "       [ 4.32879262e-01, -1.72223741e+00,  3.97883583e-02,\n",
       "        -1.38353581e-01, -5.03425488e-01, -2.61711961e-01,\n",
       "        -4.55196471e-01,  8.73384331e-01,  1.53063946e+00,\n",
       "         1.55037255e+00, -5.70188296e+00,  0.00000000e+00,\n",
       "         8.33101948e-02],\n",
       "       [-6.07364613e-01, -1.72223741e+00, -9.94708958e-01,\n",
       "        -6.98470156e-01, -7.82158952e-01, -2.61711961e-01,\n",
       "        -4.55196471e-01,  1.08609450e+00, -6.53321719e-01,\n",
       "        -6.41694981e-01,  1.24495261e-01,  0.00000000e+00,\n",
       "         8.33101948e-02],\n",
       "       [ 1.08303168e+00, -1.72223741e+00,  3.97883583e-02,\n",
       "        -1.38353581e-01, -5.18095670e-01, -2.61711961e-01,\n",
       "         1.81110085e+00,  1.04355247e+00, -6.53321719e-01,\n",
       "        -6.41694981e-01,  1.24495261e-01,  0.00000000e+00,\n",
       "         2.03276875e+00],\n",
       "       [-8.72426755e-02,  5.80640041e-01,  1.07428567e+00,\n",
       "         1.54199614e+00,  5.38157458e-01, -2.61711961e-01,\n",
       "         1.81110085e+00,  7.88300262e-01,  1.53063946e+00,\n",
       "         2.64640631e+00,  1.24495261e-01,  0.00000000e+00,\n",
       "         8.33101948e-02],\n",
       "       [ 3.02848778e-01,  5.80640041e-01,  1.07428567e+00,\n",
       "         4.21762993e-01, -1.83841208e+00, -2.61711961e-01,\n",
       "        -4.55196471e-01, -1.90166530e-01, -6.53321719e-01,\n",
       "        -6.41694981e-01,  1.24495261e-01,  0.00000000e+00,\n",
       "         8.33101948e-02],\n",
       "       [ 9.53001200e-01,  5.80640041e-01, -9.94708958e-01,\n",
       "         4.21762993e-01, -8.55509864e-01, -2.61711961e-01,\n",
       "        -4.55196471e-01,  4.47963987e-01, -6.53321719e-01,\n",
       "        -6.41694981e-01,  1.24495261e-01,  0.00000000e+00,\n",
       "         2.03276875e+00],\n",
       "       [-6.07364613e-01, -1.72223741e+00, -9.94708958e-01,\n",
       "         9.81879568e-01, -1.00221169e+00, -2.61711961e-01,\n",
       "        -4.55196471e-01,  6.18132124e-01, -6.53321719e-01,\n",
       "        -6.41694981e-01,  1.24495261e-01,  0.00000000e+00,\n",
       "         8.33101948e-02],\n",
       "       [ 8.22970716e-01,  5.80640041e-01, -2.02920627e+00,\n",
       "        -6.98470156e-01, -1.22226442e+00, -2.61711961e-01,\n",
       "        -4.55196471e-01, -1.05082461e-01, -6.53321719e-01,\n",
       "         1.55037255e+00, -5.70188296e+00,  0.00000000e+00,\n",
       "         8.33101948e-02],\n",
       "       [-4.77334129e-01, -1.72223741e+00,  1.07428567e+00,\n",
       "        -6.98470156e-01, -5.32765853e-01, -2.61711961e-01,\n",
       "         1.81110085e+00, -1.04100722e+00, -6.53321719e-01,\n",
       "        -6.41694981e-01,  1.24495261e-01,  0.00000000e+00,\n",
       "         8.33101948e-02],\n",
       "       [ 9.53001200e-01,  5.80640041e-01,  1.07428567e+00,\n",
       "         7.01821281e-01, -9.26603825e-02, -2.61711961e-01,\n",
       "        -4.55196471e-01, -1.84930587e+00,  1.53063946e+00,\n",
       "         1.55037255e+00,  1.24495261e-01,  0.00000000e+00,\n",
       "         8.33101948e-02],\n",
       "       [ 9.53001200e-01,  5.80640041e-01, -9.94708958e-01,\n",
       "        -6.98470156e-01,  2.47010762e-02,  3.82099463e+00,\n",
       "        -4.55196471e-01, -1.05082461e-01, -6.53321719e-01,\n",
       "        -6.41694981e-01,  1.24495261e-01,  0.00000000e+00,\n",
       "         2.03276875e+00],\n",
       "       [ 1.47312314e+00,  5.80640041e-01,  1.07428567e+00,\n",
       "         4.21762993e-01, -4.86498354e-02, -2.61711961e-01,\n",
       "        -4.55196471e-01,  2.25436422e-02, -6.53321719e-01,\n",
       "        -6.41694981e-01,  1.24495261e-01,  0.00000000e+00,\n",
       "         8.33101948e-02],\n",
       "       [-1.12748655e+00,  5.80640041e-01, -9.94708958e-01,\n",
       "        -6.98470156e-01, -4.86498354e-02, -2.61711961e-01,\n",
       "         1.81110085e+00,  2.77795849e-01, -6.53321719e-01,\n",
       "         1.55037255e+00, -5.70188296e+00,  0.00000000e+00,\n",
       "         8.33101948e-02],\n",
       "       [-1.38754752e+00,  5.80640041e-01, -9.94708958e-01,\n",
       "        -1.38353581e-01,  4.20795999e-01, -2.61711961e-01,\n",
       "         1.81110085e+00, -1.76422180e+00, -6.53321719e-01,\n",
       "        -6.41694981e-01,  1.24495261e-01,  0.00000000e+00,\n",
       "         8.33101948e-02],\n",
       "       [-1.38754752e+00,  5.80640041e-01,  1.07428567e+00,\n",
       "        -6.98470156e-01, -4.59414941e-01, -2.61711961e-01,\n",
       "        -4.55196471e-01,  1.21372061e+00, -6.53321719e-01,\n",
       "        -6.41694981e-01,  1.24495261e-01,  0.00000000e+00,\n",
       "        -5.76506548e+00],\n",
       "       [ 2.38333653e+00,  5.80640041e-01,  1.07428567e+00,\n",
       "         4.21762993e-01, -4.86498354e-02, -2.61711961e-01,\n",
       "        -4.55196471e-01, -1.93438994e+00,  1.53063946e+00,\n",
       "         4.54338782e-01,  1.24495261e-01,  0.00000000e+00,\n",
       "         8.33101948e-02],\n",
       "       [ 4.32879262e-01,  5.80640041e-01, -9.94708958e-01,\n",
       "        -4.18411869e-01, -9.72871323e-01, -2.61711961e-01,\n",
       "        -4.55196471e-01,  2.35253814e-01, -6.53321719e-01,\n",
       "        -6.41694981e-01,  1.24495261e-01,  0.00000000e+00,\n",
       "         8.33101948e-02],\n",
       "       [ 1.08303168e+00,  5.80640041e-01,  1.07428567e+00,\n",
       "         9.81879568e-01, -6.06116764e-01,  3.82099463e+00,\n",
       "        -4.55196471e-01, -6.15586874e-01,  1.53063946e+00,\n",
       "         4.54338782e-01,  1.24495261e-01,  0.00000000e+00,\n",
       "         8.33101948e-02],\n",
       "       [-2.17273160e-01,  5.80640041e-01,  3.97883583e-02,\n",
       "        -6.98470156e-01, -3.56723665e-01, -2.61711961e-01,\n",
       "        -4.55196471e-01,  4.47963987e-01, -6.53321719e-01,\n",
       "        -6.41694981e-01,  1.24495261e-01,  0.00000000e+00,\n",
       "         8.33101948e-02],\n",
       "       [-1.51757800e+00,  5.80640041e-01,  3.97883583e-02,\n",
       "        -1.38353581e-01, -6.64797494e-01, -2.61711961e-01,\n",
       "        -4.55196471e-01,  1.63914095e+00, -6.53321719e-01,\n",
       "        -6.41694981e-01,  1.24495261e-01,  0.00000000e+00,\n",
       "         8.33101948e-02],\n",
       "       [ 1.21306217e+00,  5.80640041e-01, -9.94708958e-01,\n",
       "         4.21762993e-01,  8.33818056e-02,  3.82099463e+00,\n",
       "        -4.55196471e-01,  2.25436422e-02, -6.53321719e-01,\n",
       "        -6.41694981e-01,  1.24495261e-01,  0.00000000e+00,\n",
       "         8.33101948e-02],\n",
       "       [ 4.32879262e-01, -1.72223741e+00,  1.07428567e+00,\n",
       "         1.54199614e+00,  7.14199646e-01, -2.61711961e-01,\n",
       "        -4.55196471e-01,  4.47963987e-01,  1.53063946e+00,\n",
       "         4.54338782e-01,  1.24495261e-01,  0.00000000e+00,\n",
       "         8.33101948e-02],\n",
       "       [ 1.47312314e+00, -1.72223741e+00, -9.94708958e-01,\n",
       "        -1.38353581e-01, -9.72871323e-01, -2.61711961e-01,\n",
       "        -4.55196471e-01, -6.58128909e-01, -6.53321719e-01,\n",
       "         4.54338782e-01,  1.24495261e-01,  0.00000000e+00,\n",
       "         8.33101948e-02],\n",
       "       [ 1.73318411e+00, -1.72223741e+00,  1.07428567e+00,\n",
       "        -1.38353581e-01,  5.82168005e-01, -2.61711961e-01,\n",
       "         1.81110085e+00, -8.28297047e-01,  1.53063946e+00,\n",
       "         4.54338782e-01,  1.24495261e-01,  0.00000000e+00,\n",
       "         8.33101948e-02],\n",
       "       [ 1.08303168e+00,  5.80640041e-01,  3.97883583e-02,\n",
       "        -1.38353581e-01,  3.18104723e-01, -2.61711961e-01,\n",
       "        -4.55196471e-01, -4.87960771e-01,  1.53063946e+00,\n",
       "         4.54338782e-01, -5.70188296e+00,  0.00000000e+00,\n",
       "         8.33101948e-02],\n",
       "       [-2.03769994e+00,  5.80640041e-01, -9.94708958e-01,\n",
       "        -4.18411869e-01, -4.63928843e-03, -2.61711961e-01,\n",
       "        -4.55196471e-01,  6.60674159e-01, -6.53321719e-01,\n",
       "        -6.41694981e-01,  1.24495261e-01,  0.00000000e+00,\n",
       "         8.33101948e-02]])"
      ]
     },
     "execution_count": 28,
     "metadata": {},
     "output_type": "execute_result"
    }
   ],
   "source": [
    "from sklearn.preprocessing import StandardScaler\n",
    "\n",
    "scaler = StandardScaler()\n",
    "scaler.fit(X_train)\n",
    "\n",
    "X_train = scaler.transform(X_train)\n",
    "X_test = scaler.transform(X_test)\n",
    "X_test\n"
   ]
  },
  {
   "cell_type": "markdown",
   "id": "d99e515b",
   "metadata": {},
   "source": [
    "Training and Prediction"
   ]
  },
  {
   "cell_type": "code",
   "execution_count": 29,
   "id": "223beb32",
   "metadata": {},
   "outputs": [
    {
     "data": {
      "text/html": [
       "<style>#sk-container-id-1 {color: black;}#sk-container-id-1 pre{padding: 0;}#sk-container-id-1 div.sk-toggleable {background-color: white;}#sk-container-id-1 label.sk-toggleable__label {cursor: pointer;display: block;width: 100%;margin-bottom: 0;padding: 0.3em;box-sizing: border-box;text-align: center;}#sk-container-id-1 label.sk-toggleable__label-arrow:before {content: \"▸\";float: left;margin-right: 0.25em;color: #696969;}#sk-container-id-1 label.sk-toggleable__label-arrow:hover:before {color: black;}#sk-container-id-1 div.sk-estimator:hover label.sk-toggleable__label-arrow:before {color: black;}#sk-container-id-1 div.sk-toggleable__content {max-height: 0;max-width: 0;overflow: hidden;text-align: left;background-color: #f0f8ff;}#sk-container-id-1 div.sk-toggleable__content pre {margin: 0.2em;color: black;border-radius: 0.25em;background-color: #f0f8ff;}#sk-container-id-1 input.sk-toggleable__control:checked~div.sk-toggleable__content {max-height: 200px;max-width: 100%;overflow: auto;}#sk-container-id-1 input.sk-toggleable__control:checked~label.sk-toggleable__label-arrow:before {content: \"▾\";}#sk-container-id-1 div.sk-estimator input.sk-toggleable__control:checked~label.sk-toggleable__label {background-color: #d4ebff;}#sk-container-id-1 div.sk-label input.sk-toggleable__control:checked~label.sk-toggleable__label {background-color: #d4ebff;}#sk-container-id-1 input.sk-hidden--visually {border: 0;clip: rect(1px 1px 1px 1px);clip: rect(1px, 1px, 1px, 1px);height: 1px;margin: -1px;overflow: hidden;padding: 0;position: absolute;width: 1px;}#sk-container-id-1 div.sk-estimator {font-family: monospace;background-color: #f0f8ff;border: 1px dotted black;border-radius: 0.25em;box-sizing: border-box;margin-bottom: 0.5em;}#sk-container-id-1 div.sk-estimator:hover {background-color: #d4ebff;}#sk-container-id-1 div.sk-parallel-item::after {content: \"\";width: 100%;border-bottom: 1px solid gray;flex-grow: 1;}#sk-container-id-1 div.sk-label:hover label.sk-toggleable__label {background-color: #d4ebff;}#sk-container-id-1 div.sk-serial::before {content: \"\";position: absolute;border-left: 1px solid gray;box-sizing: border-box;top: 0;bottom: 0;left: 50%;z-index: 0;}#sk-container-id-1 div.sk-serial {display: flex;flex-direction: column;align-items: center;background-color: white;padding-right: 0.2em;padding-left: 0.2em;position: relative;}#sk-container-id-1 div.sk-item {position: relative;z-index: 1;}#sk-container-id-1 div.sk-parallel {display: flex;align-items: stretch;justify-content: center;background-color: white;position: relative;}#sk-container-id-1 div.sk-item::before, #sk-container-id-1 div.sk-parallel-item::before {content: \"\";position: absolute;border-left: 1px solid gray;box-sizing: border-box;top: 0;bottom: 0;left: 50%;z-index: -1;}#sk-container-id-1 div.sk-parallel-item {display: flex;flex-direction: column;z-index: 1;position: relative;background-color: white;}#sk-container-id-1 div.sk-parallel-item:first-child::after {align-self: flex-end;width: 50%;}#sk-container-id-1 div.sk-parallel-item:last-child::after {align-self: flex-start;width: 50%;}#sk-container-id-1 div.sk-parallel-item:only-child::after {width: 0;}#sk-container-id-1 div.sk-dashed-wrapped {border: 1px dashed gray;margin: 0 0.4em 0.5em 0.4em;box-sizing: border-box;padding-bottom: 0.4em;background-color: white;}#sk-container-id-1 div.sk-label label {font-family: monospace;font-weight: bold;display: inline-block;line-height: 1.2em;}#sk-container-id-1 div.sk-label-container {text-align: center;}#sk-container-id-1 div.sk-container {/* jupyter's `normalize.less` sets `[hidden] { display: none; }` but bootstrap.min.css set `[hidden] { display: none !important; }` so we also need the `!important` here to be able to override the default hidden behavior on the sphinx rendered scikit-learn.org. See: https://github.com/scikit-learn/scikit-learn/issues/21755 */display: inline-block !important;position: relative;}#sk-container-id-1 div.sk-text-repr-fallback {display: none;}</style><div id=\"sk-container-id-1\" class=\"sk-top-container\"><div class=\"sk-text-repr-fallback\"><pre>KNeighborsClassifier()</pre><b>In a Jupyter environment, please rerun this cell to show the HTML representation or trust the notebook. <br />On GitHub, the HTML representation is unable to render, please try loading this page with nbviewer.org.</b></div><div class=\"sk-container\" hidden><div class=\"sk-item\"><div class=\"sk-estimator sk-toggleable\"><input class=\"sk-toggleable__control sk-hidden--visually\" id=\"sk-estimator-id-1\" type=\"checkbox\" checked><label for=\"sk-estimator-id-1\" class=\"sk-toggleable__label sk-toggleable__label-arrow\">KNeighborsClassifier</label><div class=\"sk-toggleable__content\"><pre>KNeighborsClassifier()</pre></div></div></div></div></div>"
      ],
      "text/plain": [
       "KNeighborsClassifier()"
      ]
     },
     "execution_count": 29,
     "metadata": {},
     "output_type": "execute_result"
    }
   ],
   "source": [
    "from sklearn.neighbors import KNeighborsClassifier\n",
    "\n",
    "classifier = KNeighborsClassifier(n_neighbors=5)\n",
    "classifier.fit(X_train, y_train)"
   ]
  },
  {
   "cell_type": "code",
   "execution_count": 30,
   "id": "127508ce",
   "metadata": {},
   "outputs": [
    {
     "data": {
      "text/plain": [
       "array([0, 1, 0, 0, 0, 1, 0, 0, 0, 0, 0, 1, 0, 1, 0, 0, 0, 0, 0, 1, 0, 1,\n",
       "       1, 0, 0, 1, 0, 1, 0, 1, 0, 0, 1, 0, 0, 0, 1, 0, 0, 0, 0, 0, 1, 1,\n",
       "       0, 0, 0, 0, 1, 0, 1, 0, 0, 1, 1, 0, 1, 0, 0])"
      ]
     },
     "execution_count": 30,
     "metadata": {},
     "output_type": "execute_result"
    }
   ],
   "source": [
    "y_pred = classifier.predict(X_test)\n",
    "y_pred "
   ]
  },
  {
   "cell_type": "code",
   "execution_count": 31,
   "id": "bc0b5dc7",
   "metadata": {},
   "outputs": [
    {
     "data": {
      "text/plain": [
       "84     0\n",
       "260    1\n",
       "45     0\n",
       "176    0\n",
       "143    0\n",
       "125    0\n",
       "227    1\n",
       "118    0\n",
       "9      0\n",
       "90     0\n",
       "147    0\n",
       "275    1\n",
       "33     0\n",
       "281    1\n",
       "221    1\n",
       "77     0\n",
       "46     0\n",
       "5      0\n",
       "231    1\n",
       "244    1\n",
       "124    0\n",
       "238    1\n",
       "279    1\n",
       "101    0\n",
       "75     0\n",
       "271    1\n",
       "274    1\n",
       "109    0\n",
       "60     0\n",
       "202    1\n",
       "42     0\n",
       "56     0\n",
       "285    1\n",
       "117    0\n",
       "59     0\n",
       "165    0\n",
       "282    1\n",
       "113    0\n",
       "159    0\n",
       "63     0\n",
       "146    0\n",
       "66     0\n",
       "269    1\n",
       "158    0\n",
       "181    0\n",
       "30     0\n",
       "22     0\n",
       "24     0\n",
       "277    1\n",
       "119    0\n",
       "246    1\n",
       "79     0\n",
       "17     0\n",
       "172    0\n",
       "213    1\n",
       "177    0\n",
       "183    0\n",
       "168    0\n",
       "6      0\n",
       "Name: Num, dtype: int32"
      ]
     },
     "execution_count": 31,
     "metadata": {},
     "output_type": "execute_result"
    }
   ],
   "source": [
    "y_test"
   ]
  },
  {
   "cell_type": "code",
   "execution_count": 32,
   "id": "c3d5a66e",
   "metadata": {},
   "outputs": [
    {
     "name": "stdout",
     "output_type": "stream",
     "text": [
      "[[36  5]\n",
      " [ 4 14]]\n",
      "              precision    recall  f1-score   support\n",
      "\n",
      "           0       0.90      0.88      0.89        41\n",
      "           1       0.74      0.78      0.76        18\n",
      "\n",
      "    accuracy                           0.85        59\n",
      "   macro avg       0.82      0.83      0.82        59\n",
      "weighted avg       0.85      0.85      0.85        59\n",
      "\n"
     ]
    }
   ],
   "source": [
    "from sklearn.metrics import classification_report, confusion_matrix\n",
    "print(confusion_matrix(y_test, y_pred))\n",
    "print(classification_report(y_test, y_pred))"
   ]
  },
  {
   "cell_type": "markdown",
   "id": "398caffa",
   "metadata": {},
   "source": [
    "making predictions"
   ]
  }
 ],
 "metadata": {
  "kernelspec": {
   "display_name": "Python 3 (ipykernel)",
   "language": "python",
   "name": "python3"
  },
  "language_info": {
   "codemirror_mode": {
    "name": "ipython",
    "version": 3
   },
   "file_extension": ".py",
   "mimetype": "text/x-python",
   "name": "python",
   "nbconvert_exporter": "python",
   "pygments_lexer": "ipython3",
   "version": "3.11.5"
  }
 },
 "nbformat": 4,
 "nbformat_minor": 5
}
